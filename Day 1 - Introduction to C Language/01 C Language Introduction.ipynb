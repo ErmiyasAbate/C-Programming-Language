{
 "cells": [
  {
   "attachments": {},
   "cell_type": "markdown",
   "metadata": {},
   "source": [
    "# C Programming Language\n",
    "\n",
    "<p style='text-align: justify; line-height: 1.8; font-size: 20px;'>\n",
    "For the last 40-45 years, C is one of the most popular and highly recognized programming languages in the world.<br/>In fact, it is the first programming language of a huge number of individuals.<br/>\n",
    "It is strongly recommended to start the programming journey with C language as it helps to understand a lot of underlying processes on the ground level, which enhances our fundamental knowledge & boosts our confidence, which further makes it easier for us to learn other high-level programming languages as well. Also, proficiency in C Programming offers a various career opportunities.\n",
    "</p>"
   ]
  },
  {
   "cell_type": "code",
   "execution_count": null,
   "metadata": {},
   "outputs": [],
   "source": []
  }
 ],
 "metadata": {
  "language_info": {
   "name": "python"
  },
  "orig_nbformat": 4
 },
 "nbformat": 4,
 "nbformat_minor": 2
}
