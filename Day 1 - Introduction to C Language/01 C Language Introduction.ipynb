{
 "cells": [
  {
   "attachments": {},
   "cell_type": "markdown",
   "metadata": {},
   "source": [
    "## C Programming Language\n",
    "\n",
    "For the last 40-45 years, C is one of the most popular and highly recognized programming languages in the world.\n",
    "<font color='red'><b>In fact, it is the first programming language of a huge number of individuals.</b></font>"
   ]
  },
  {
   "cell_type": "code",
   "execution_count": null,
   "metadata": {},
   "outputs": [],
   "source": []
  }
 ],
 "metadata": {
  "language_info": {
   "name": "python"
  },
  "orig_nbformat": 4
 },
 "nbformat": 4,
 "nbformat_minor": 2
}
