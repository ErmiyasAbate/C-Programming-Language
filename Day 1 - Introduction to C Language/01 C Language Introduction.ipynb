{
 "cells": [
  {
   "attachments": {},
   "cell_type": "markdown",
   "metadata": {},
   "source": [
    "# C Programming Language\n",
    "\n",
    "<p style='text-align: justify; line-height: 1.8; font-size:20px;'>\n",
    "C is a procedural programming language initially developed by Dennis Ritchie in the year 1972 at Bell Laboratories of AT&T Labs. It was mainly developed as a system programming language to write the UNIX operating system.<br/>\n",
    "</p>\n",
    "\n",
    "<ul style=\"text-align: justify; font-size:20px;\">\n",
    "    <li>For the last 40-45 years, C is one of the most popular and highly recognized programming languages in the world.</li>\n",
    "    <li>In fact, it is the first programming language of a huge number of individuals.</li>\n",
    "    <li>It is strongly recommended to start the programming journey with C language as it helps to understand a lot of underlying processes on the ground level, which enhances our fundamental knowledge & boosts our confidence, which further makes it easier for us to learn other high-level programming languages as well. Also, proficiency in C Programming offers a various career opportunities.</li>\n",
    "</ul>\n",
    "\n",
    "<img src=\"https://www.capsuleer.cz/wp-content/uploads/2018/10/ritchie-1607x900.jpg\" alt=\"Dennis Ritchie\"/>\n"
   ]
  },
  {
   "attachments": {},
   "cell_type": "markdown",
   "metadata": {},
   "source": [
    "<h1>Why Should We Learn C?</h1>\n",
    "\n",
    "<p style='text-align: justify; line-height: 1.8; font-size:20px;'>\n",
    "Many later languages have borrowed syntax/features directly or indirectly from the C language. Like syntax of Java, PHP, JavaScript, and many other languages are mainly based on the C language. C++ is nearly a superset of C language (Only a few programs may compile in C, but not in C++).<br/>\n",
    "So,  if a person learns C programming first, it will help him to learn any modern programming language as well. As learning C help to understand a lot of the underlying architecture of the operating system. Like pointers, working with memory locations, etc.\n",
    "</p>\n",
    "\n",
    "<h1>Structure of the C program</h1>"
   ]
  },
  {
   "cell_type": "code",
   "execution_count": null,
   "metadata": {},
   "outputs": [],
   "source": [
    "%%file c_program.c\n",
    "#include <stdio.h>\n",
    "\n",
    "int main(void){\n",
    "    printf(\"Hello World!\");\n",
    "\n",
    "    return 0;\n",
    "}"
   ]
  },
  {
   "cell_type": "markdown",
   "metadata": {},
   "source": []
  }
 ],
 "metadata": {
  "kernelspec": {
   "display_name": "Python 3",
   "language": "python",
   "name": "python3"
  },
  "language_info": {
   "codemirror_mode": {
    "name": "ipython",
    "version": 3
   },
   "file_extension": ".py",
   "mimetype": "text/x-python",
   "name": "python",
   "nbconvert_exporter": "python",
   "pygments_lexer": "ipython3",
   "version": "3.11.3"
  },
  "orig_nbformat": 4
 },
 "nbformat": 4,
 "nbformat_minor": 2
}
