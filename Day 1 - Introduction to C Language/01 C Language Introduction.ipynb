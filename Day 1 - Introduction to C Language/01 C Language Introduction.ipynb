{
 "cells": [
  {
   "attachments": {},
   "cell_type": "markdown",
   "metadata": {},
   "source": [
    "# C Programming Language\n",
    "\n",
    "<p style='text-align: justify; line-height: 1.8; font-size:20px;'>\n",
    "C is a procedural programming language initially developed by Dennis Ritchie in the year 1972 at Bell Laboratories of AT&T Labs. It was mainly developed as a system programming language to write the UNIX operating system.<br/>\n",
    "</p>\n",
    "\n",
    "<ul style=\"text-align: justify; font-size:20px;\">\n",
    "    <li>For the last 40-45 years, C is one of the most popular and highly recognized programming languages in the world.</li>\n",
    "    <li>In fact, it is the first programming language of a huge number of individuals.</li>\n",
    "    <li>It is strongly recommended to start the programming journey with C language as it helps to understand a lot of underlying processes on the ground level, which enhances our fundamental knowledge & boosts our confidence, which further makes it easier for us to learn other high-level programming languages as well. Also, proficiency in C Programming offers a various career opportunities.</li>\n",
    "</ul>\n",
    "\n",
    "<img src=\"https://www.capsuleer.cz/wp-content/uploads/2018/10/ritchie-1607x900.jpg\" alt=\"Dennis Ritchie\"/>\n"
   ]
  },
  {
   "cell_type": "code",
   "execution_count": null,
   "metadata": {},
   "outputs": [],
   "source": []
  }
 ],
 "metadata": {
  "language_info": {
   "name": "python"
  },
  "orig_nbformat": 4
 },
 "nbformat": 4,
 "nbformat_minor": 2
}
